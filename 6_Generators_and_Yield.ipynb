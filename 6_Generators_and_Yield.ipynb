{
 "cells": [
  {
   "cell_type": "markdown",
   "metadata": {},
   "source": [
    "- Suppose our boss asks us to write a function that takes a list of ints and returns some Iterable containing the elements which are prime1 numbers.\n",
    "\n",
    "- Remember, an Iterable is just an object capable of returning its members one at a time.\n",
    "\n",
    "- \"Simple,\" we say, and we write the following:"
   ]
  },
  {
   "cell_type": "code",
   "execution_count": 7,
   "metadata": {},
   "outputs": [],
   "source": [
    "import math"
   ]
  },
  {
   "cell_type": "code",
   "execution_count": 8,
   "metadata": {},
   "outputs": [],
   "source": [
    "# function that takes an input as a number and returns whether it's prime or not\n",
    "\n",
    "def is_prime(number):\n",
    "    if number > 1:\n",
    "        if number == 2:\n",
    "            return True\n",
    "        if number % 2 == 0:\n",
    "            return False\n",
    "        for current in range(3, int(math.sqrt(number) + 1), 2):\n",
    "            if number % current == 0: \n",
    "                return False\n",
    "        return True\n",
    "    return False"
   ]
  },
  {
   "cell_type": "code",
   "execution_count": 9,
   "metadata": {},
   "outputs": [
    {
     "name": "stdout",
     "output_type": "stream",
     "text": [
      "[3, 11]\n"
     ]
    }
   ],
   "source": [
    "# function that takes a list of values as an input and return the list of prime values\n",
    "\n",
    "def get_primes(input_list):\n",
    "    result_list = list()\n",
    "    for elements in input_list:\n",
    "        if is_prime(elements):\n",
    "            result_list.append(elements)\n",
    "    return result_list\n",
    "\n",
    "input_list = [3,6,11]\n",
    "print(get_primes(input_list))"
   ]
  },
  {
   "cell_type": "markdown",
   "metadata": {},
   "source": [
    "- Above **get_primes** implementation above fulfills the requirements, so we tell our boss we're done. \n",
    "- She reports our function works and is exactly what she wanted."
   ]
  },
  {
   "cell_type": "markdown",
   "metadata": {},
   "source": [
    "#### Dealing With Infinite Sequences\n",
    "\n",
    "Well, not quite exactly. A few days later, our boss comes back and tells us she's run into a small problem: she wants to use our **get_primes** function on a very large list of numbers. In fact, the list is so large that merely creating it would consume all of the system's memory. To work around this, she wants to be able to call **get_primes** with a **start** value and get all the primes larger than **start** (perhaps she's solving Project Euler problem 10).\n",
    "\n",
    "Once we think about this new requirement, it becomes clear that it requires more than a simple change to **get_primes**. Clearly, we can't return a list of all the prime numbers from **start** to infinity (operating on infinite sequences, though, has a wide range of useful applications). The chances of solving this problem using a normal function seem bleak."
   ]
  },
  {
   "cell_type": "markdown",
   "metadata": {},
   "source": [
    "Before we give up, let's determine the core obstacle preventing us from writing a function that satisfies our boss's new requirements. Thinking about it, we arrive at the following: **functions only get one chance to return results, and thus must return all results at once.** It seems pointless to make such an obvious statement; \"functions just work that way,\" we think. The real value lies in asking, \"but what if they didn't?\"\n",
    "\n",
    "Imagine what we could do if **get_primes** could simply return the next value instead of all the values at once. It wouldn't need to create a list at all. No list, no memory issues. Since our boss told us she's just iterating over the results, she wouldn't know the difference.\n",
    "\n",
    "Unfortunately, this doesn't seem possible. Even if we had a magical function that allowed us to iterate from **n** to **infinity**, we'd get stuck after returning the first value:\n",
    "\n",
    "```python\n",
    "def get_primes(start):\n",
    "    for element in magical_infinite_range(start):\n",
    "        if is_prime(element):\n",
    "            return element\n",
    "```\n",
    "\n",
    "Imagine get_primes is called like so:\n",
    "\n",
    "```python\n",
    "def solve_number_10():\n",
    "    # She *is* working on Project Euler #10, I knew it!\n",
    "    total = 2\n",
    "    for next_prime in get_primes(3):\n",
    "        if next_prime < 2000000:\n",
    "            total += next_prime\n",
    "        else:\n",
    "            print(total)\n",
    "            return\n",
    "```"
   ]
  },
  {
   "cell_type": "markdown",
   "metadata": {},
   "source": [
    "Clearly, in **get_primes**, we would immediately hit the case where **number = 3** and return at line 4. Instead of **return**, we need a way to generate a value and, when asked for the next one, pick up where we left off.\n",
    "\n",
    "Functions, though, can't do this. When they **return**, they're done for good. Even if we could guarantee a function would be called again, we have no way of saying, \"OK, now, instead of starting at the first line like we normally do, start up where we left off at line 4.\" Functions have a single **entry point**: the first line."
   ]
  },
  {
   "cell_type": "markdown",
   "metadata": {},
   "source": [
    "#### Enter the Generator\n",
    "\n",
    "- This sort of problem is so common that a new construct was added to Python to solve it: the **generator**. \n",
    "- A **generator** \"generates\" values. Creating **generators** was made as straightforward as possible through the concept of **generator functions**, introduced simultaneously.\n",
    "\n",
    "- A **generator function** is defined like a normal function, but whenever it needs to generate a value, it does so with the **yield** keyword rather than **return**. \n",
    "- If the body of a **def** contains **yield**, the function automatically becomes a **generator function** (even if it also contains a **return** statement). There's nothing else we need to do to create one.\n",
    "\n",
    "**generator functions** create **generator iterators.** That's the last time you'll see the term **generator iterator**, though, since they're almost always referred to as \"**generators**\". Just remember that a **generator** is a special type of **iterator**. To be considered an **iterator, generators** must define a few methods, one of which is **__next__()**. To get the next value from a **generator**, we use the same built-in function as for **iterators: next()**.\n",
    "\n",
    "This point bears repeating: **to get the next value from a generator, we use the same built-in function as for iterators: next().**\n",
    "\n",
    "(**next()** takes care of calling the generator's **__next__()** method). Since a **generator** is a type of **iterator**, it can be used in a **for** loop.\n",
    "\n",
    "So whenever **next()** is called on a **generator**, the **generator** is responsible for passing back a value to whomever called **next()**. It does so by calling **yield** along with the value to be passed back (e.g. **yield 7**). The easiest way to remember what yield does is to think of it as **return** (plus a little magic) for **generator functions.**\n",
    "\n",
    "Again, this bears repeating: **yield is just return (plus a little magic) for generator functions.**\n",
    "\n",
    "Here's a simple **generator function**:"
   ]
  },
  {
   "cell_type": "markdown",
   "metadata": {},
   "source": [
    "```python\n",
    "def get_primes(number):\n",
    "    while True:\n",
    "        if is_prime(number):\n",
    "            yield number\n",
    "        number += 1\n",
    "```"
   ]
  },
  {
   "cell_type": "code",
   "execution_count": 11,
   "metadata": {},
   "outputs": [
    {
     "name": "stdout",
     "output_type": "stream",
     "text": [
      "Producing...\n",
      "Produced [4, 7, 1]\n",
      "The running average is 4.0\n",
      "Producing...\n",
      "Produced [2, 6, 1]\n",
      "The running average is 3.5\n",
      "Producing...\n",
      "Produced [7, 8, 0]\n",
      "The running average is 4.0\n",
      "Producing...\n",
      "Produced [2, 6, 8]\n",
      "The running average is 4.333333333333333\n",
      "Producing...\n",
      "Produced [1, 0, 8]\n",
      "The running average is 4.066666666666666\n",
      "Producing...\n",
      "Produced [3, 6, 5]\n",
      "The running average is 4.166666666666667\n",
      "Producing...\n",
      "Produced [0, 6, 1]\n",
      "The running average is 3.9047619047619047\n",
      "Producing...\n",
      "Produced [6, 4, 2]\n",
      "The running average is 3.9166666666666665\n",
      "Producing...\n",
      "Produced [9, 6, 0]\n",
      "The running average is 4.037037037037037\n",
      "Producing...\n",
      "Produced [4, 1, 9]\n",
      "The running average is 4.1\n"
     ]
    }
   ],
   "source": [
    "import random\n",
    "\n",
    "def get_data():\n",
    "    \"\"\"Return 3 random integers between 0 and 9\"\"\"\n",
    "    return random.sample(range(10), 3)\n",
    "\n",
    "def consume():\n",
    "    \"\"\"Displays a running average across lists of integers sent to it\"\"\"\n",
    "    running_sum = 0\n",
    "    data_items_seen = 0\n",
    "\n",
    "    while True:\n",
    "        data = yield\n",
    "        data_items_seen += len(data)\n",
    "        running_sum += sum(data)\n",
    "        print('The running average is {}'.format(running_sum / float(data_items_seen)))\n",
    "        \n",
    "def produce(consumer):\n",
    "    \"\"\"Produces a set of values and forwards them to the pre-defined consumer\n",
    "    function\"\"\"\n",
    "    while True:\n",
    "        data = get_data()\n",
    "        print('Produced {}'.format(data))\n",
    "        consumer.send(data)\n",
    "        yield\n",
    "        \n",
    "if __name__ == '__main__':\n",
    "    consumer = consume()\n",
    "    consumer.send(None)\n",
    "    producer = produce(consumer)\n",
    "\n",
    "    for _ in range(10):\n",
    "        print('Producing...')\n",
    "        next(producer)"
   ]
  },
  {
   "cell_type": "markdown",
   "metadata": {},
   "source": [
    "Remember...\n",
    "There are a few key ideas I hope to take away from this notebook:\n",
    "\n",
    "- Generators are used to generate a series of values\n",
    "- Yield is like the return of generator functions\n",
    "- The only other thing yield does is save the \"state\" of a generator function\n",
    "- A generator is just a special type of iterator\n",
    "- Like iterators, we can get the next value from a generator using next()\n",
    " - For gets values by calling next() implicitly"
   ]
  }
 ],
 "metadata": {
  "kernelspec": {
   "display_name": "Python 3",
   "language": "python",
   "name": "python3"
  },
  "language_info": {
   "codemirror_mode": {
    "name": "ipython",
    "version": 3
   },
   "file_extension": ".py",
   "mimetype": "text/x-python",
   "name": "python",
   "nbconvert_exporter": "python",
   "pygments_lexer": "ipython3",
   "version": "3.7.4"
  },
  "toc": {
   "base_numbering": 1,
   "nav_menu": {},
   "number_sections": true,
   "sideBar": true,
   "skip_h1_title": false,
   "title_cell": "Table of Contents",
   "title_sidebar": "Contents",
   "toc_cell": false,
   "toc_position": {},
   "toc_section_display": true,
   "toc_window_display": false
  },
  "varInspector": {
   "cols": {
    "lenName": 16,
    "lenType": 16,
    "lenVar": 40
   },
   "kernels_config": {
    "python": {
     "delete_cmd_postfix": "",
     "delete_cmd_prefix": "del ",
     "library": "var_list.py",
     "varRefreshCmd": "print(var_dic_list())"
    },
    "r": {
     "delete_cmd_postfix": ") ",
     "delete_cmd_prefix": "rm(",
     "library": "var_list.r",
     "varRefreshCmd": "cat(var_dic_list()) "
    }
   },
   "types_to_exclude": [
    "module",
    "function",
    "builtin_function_or_method",
    "instance",
    "_Feature"
   ],
   "window_display": false
  }
 },
 "nbformat": 4,
 "nbformat_minor": 2
}
